{
  "nbformat": 4,
  "nbformat_minor": 2,
  "metadata": {
    "colab": {
      "name": "7.4Python - Escape Characters.ipynb",
      "provenance": []
    },
    "kernelspec": {
      "name": "python3",
      "display_name": "Python 3.8.5 64-bit ('base': conda)"
    },
    "language_info": {
      "name": "python",
      "version": "3.8.5",
      "mimetype": "text/x-python",
      "codemirror_mode": {
        "name": "ipython",
        "version": 3
      },
      "pygments_lexer": "ipython3",
      "nbconvert_exporter": "python",
      "file_extension": ".py"
    },
    "interpreter": {
      "hash": "00034aa5cd6c44013b830fd98c7a620a61a498e75425ca81fcc1166b84a69895"
    }
  },
  "cells": [
    {
      "cell_type": "markdown",
      "source": [
        "# Python - Escape Characters"
      ],
      "metadata": {
        "id": "LEWMr8Rqj5ZN"
      }
    },
    {
      "cell_type": "markdown",
      "source": [
        "## Escape Character\r\n",
        "\r\n",
        "สามารถใช้ Escape characters \\ เพื่อใช้อักขระพิเศษต่าง ๆ "
      ],
      "metadata": {
        "id": "C0gpZF8Wj6b-"
      }
    },
    {
      "cell_type": "markdown",
      "source": [
        "## ตัวอย่าง\r\n",
        "\r\n",
        "ถ้าใช้ double quote ภายใน string โดยไม่ใส่ Escape characters จะเกิด error"
      ],
      "metadata": {
        "id": "VSG1ViFWj8r0"
      }
    },
    {
      "cell_type": "code",
      "execution_count": 6,
      "source": [
        "sentence = \"อยากจะบอกเธอว่า \"รัก\" อยากจะฉุดรั้งเธอไว้\"\r\n",
        "print(sentence)"
      ],
      "outputs": [
        {
          "output_type": "error",
          "ename": "SyntaxError",
          "evalue": "invalid syntax (Temp/ipykernel_6952/1939025690.py, line 1)",
          "traceback": [
            "\u001b[1;36m  File \u001b[1;32m\"C:\\Users\\krirk\\AppData\\Local\\Temp/ipykernel_6952/1939025690.py\"\u001b[1;36m, line \u001b[1;32m1\u001b[0m\n\u001b[1;33m    sentence = \"อยากจะบอกเธอว่า \"รัก\" อยากจะฉุดรั้งเธอไว้\"\u001b[0m\n\u001b[1;37m                                 ^\u001b[0m\n\u001b[1;31mSyntaxError\u001b[0m\u001b[1;31m:\u001b[0m invalid syntax\n"
          ]
        }
      ],
      "metadata": {
        "id": "bOK4y_e4kABL",
        "colab": {
          "base_uri": "https://localhost:8080/",
          "height": 135
        },
        "outputId": "b8f46be7-d98f-4b97-812a-7408c528c23f"
      }
    },
    {
      "cell_type": "markdown",
      "source": [
        "สามารถใช้ Escape characters \\ เพื่อใช้ double quotes ภายใน string"
      ],
      "metadata": {
        "id": "EnUSGK7nkB7B"
      }
    },
    {
      "cell_type": "markdown",
      "source": [
        "## ตัวอย่าง"
      ],
      "metadata": {
        "id": "_soC4EHdkD00"
      }
    },
    {
      "cell_type": "code",
      "execution_count": null,
      "source": [
        "sentence = \"อยากจะบอกเธอว่า \\\"รัก\\\" อยากจะฉุดรั้งเธอไว้\"\r\n",
        "print(sentence)"
      ],
      "outputs": [
        {
          "output_type": "stream",
          "name": "stdout",
          "text": [
            "อยากจะบอกเธอว่า \"รัก\" อยากจะฉุดรั้งเธอไว้\n"
          ]
        }
      ],
      "metadata": {
        "id": "lSKczVcakGNG"
      }
    }
  ]
}