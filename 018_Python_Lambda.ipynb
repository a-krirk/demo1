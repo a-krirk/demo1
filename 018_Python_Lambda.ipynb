{
  "nbformat": 4,
  "nbformat_minor": 0,
  "metadata": {
    "colab": {
      "name": "สำเนาของ 018_Python_Lambda.ipynb",
      "provenance": []
    },
    "kernelspec": {
      "name": "python3",
      "display_name": "Python 3"
    },
    "language_info": {
      "name": "python"
    }
  },
  "cells": [
    {
      "cell_type": "markdown",
      "metadata": {
        "id": "XS325Ele94Tb"
      },
      "source": [
        "# Python Lambda\n"
      ]
    },
    {
      "cell_type": "markdown",
      "metadata": {
        "id": "HoMm7T97-XP8"
      },
      "source": [
        "**lambda** function เป็น anonymous function คือ function ที่ไม่ต้องมีชื่อกำกับ"
      ]
    },
    {
      "cell_type": "markdown",
      "metadata": {
        "id": "DACKb5gK9-t7"
      },
      "source": [
        "## โครงสร้าง (syntax) ของ lambda function\n",
        "คือ **lambda arguments : expression**\n",
        "\n",
        "โดย lambda function จะทำงานและจะ return ผลลัพธ์จาก **expression** กลับมาเสมอ "
      ]
    },
    {
      "cell_type": "markdown",
      "metadata": {
        "id": "HmrzbnHC-AXj"
      },
      "source": [
        "### ตัวอย่าง\n",
        "เพิ่มเลข 20 ไปใน argument **a** และแสดงผลลัพธ์"
      ]
    },
    {
      "cell_type": "code",
      "metadata": {
        "colab": {
          "base_uri": "https://localhost:8080/"
        },
        "id": "VFU1Cv1J-ifb",
        "outputId": "65d0daf1-2a7e-4777-affa-6e965219aed8"
      },
      "source": [
        "x = lambda a : a + 20\n",
        "print(x(5))"
      ],
      "execution_count": null,
      "outputs": [
        {
          "output_type": "stream",
          "name": "stdout",
          "text": [
            "25\n"
          ]
        }
      ]
    },
    {
      "cell_type": "markdown",
      "metadata": {
        "id": "v3uOxSSx-n9h"
      },
      "source": [
        "Lambda function จะมีจำนวน argument(s) กี่ตัวก็ได้ ขึ้นอยู่ที่เรากำหนด"
      ]
    },
    {
      "cell_type": "markdown",
      "metadata": {
        "id": "TE0smLH_-Ayw"
      },
      "source": [
        "### ตัวอย่าง\n",
        "แสดงผลคูณของ argument **a** และ argument **b** "
      ]
    },
    {
      "cell_type": "code",
      "metadata": {
        "colab": {
          "base_uri": "https://localhost:8080/"
        },
        "id": "fmIU9cfa9w0b",
        "outputId": "1bd98cd7-4962-43f6-a7ad-44fb76b9bc10"
      },
      "source": [
        "x = lambda a, b : a * b\n",
        "print(x(5, 6))"
      ],
      "execution_count": null,
      "outputs": [
        {
          "output_type": "stream",
          "name": "stdout",
          "text": [
            "30\n"
          ]
        }
      ]
    },
    {
      "cell_type": "markdown",
      "metadata": {
        "id": "SbICFX7Q-Dpv"
      },
      "source": [
        "### ตัวอย่าง\n",
        "แสดงผลรวมของ argument **a**, **b**, และ **c**"
      ]
    },
    {
      "cell_type": "code",
      "metadata": {
        "colab": {
          "base_uri": "https://localhost:8080/"
        },
        "id": "0f-2YasV-FWL",
        "outputId": "a677cc15-2005-43da-a7d0-7ee86ee8799f"
      },
      "source": [
        "x = lambda a, b, c : a + b + c\n",
        "print(x(5, 6, 2))"
      ],
      "execution_count": null,
      "outputs": [
        {
          "output_type": "stream",
          "name": "stdout",
          "text": [
            "13\n"
          ]
        }
      ]
    },
    {
      "cell_type": "markdown",
      "metadata": {
        "id": "cafFZnbM-F0o"
      },
      "source": [
        "## ทำไมควรใช้ Lambda Functions?\n",
        "- ใช้งานง่าย\n",
        "- ไม่จำเป็นต้องตั้งชื่อ Functions ทำให้สะดวกและรวดเร็วในการใช้งาน\n",
        "\n"
      ]
    },
    {
      "cell_type": "code",
      "metadata": {
        "id": "K43-6c7F_A-R"
      },
      "source": [
        "def myfunc(n):\n",
        "  return lambda a : a * n"
      ],
      "execution_count": null,
      "outputs": []
    },
    {
      "cell_type": "markdown",
      "metadata": {
        "id": "nO9lF76U_GT4"
      },
      "source": [
        "สร้าง function definition (def) เพื่อเพิ่มค่าของ a เป็น 2 เท่า\n",
        "\n"
      ]
    },
    {
      "cell_type": "code",
      "metadata": {
        "colab": {
          "base_uri": "https://localhost:8080/"
        },
        "id": "xT6fqnnS_I8L",
        "outputId": "a0f83c18-1e12-44ae-b88c-47c0a2e663e3"
      },
      "source": [
        "def myfunc(n):\n",
        "  return lambda a : a * n\n",
        "\n",
        "mydoubler = myfunc(2)\n",
        "\n",
        "print(mydoubler(5))"
      ],
      "execution_count": null,
      "outputs": [
        {
          "output_type": "stream",
          "name": "stdout",
          "text": [
            "10\n"
          ]
        }
      ]
    },
    {
      "cell_type": "markdown",
      "metadata": {
        "id": "Myt1k4HU_Lnq"
      },
      "source": [
        "ใช้ def เดิม (อันด้านบน) เพื่อทำให้ค่าของตัวเลขที่ใส่เข้าไปเพิ่มขึ้นเป็น 3 เท่า\n",
        "\n"
      ]
    },
    {
      "cell_type": "code",
      "metadata": {
        "colab": {
          "base_uri": "https://localhost:8080/"
        },
        "id": "qVj2SeN7_OmB",
        "outputId": "c93acd04-74b1-4f92-a5f1-fb4d830f2d27"
      },
      "source": [
        "def myfunc(n):\n",
        "  return lambda a : a * n\n",
        "\n",
        "mytripler = myfunc(3)\n",
        "\n",
        "print(mytripler(5))"
      ],
      "execution_count": null,
      "outputs": [
        {
          "output_type": "stream",
          "name": "stdout",
          "text": [
            "15\n"
          ]
        }
      ]
    },
    {
      "cell_type": "markdown",
      "metadata": {
        "id": "-tyVqluG_SFK"
      },
      "source": [
        "ใช้ def เดิม (อันด้านบน) เพื่อประมวลผล 2 functions ภายใน def เดียวกัน\n",
        "\n"
      ]
    },
    {
      "cell_type": "code",
      "metadata": {
        "id": "W84TDnNT_U_t",
        "colab": {
          "base_uri": "https://localhost:8080/"
        },
        "outputId": "90c1f950-b42f-4cb7-b5b0-5b040c723d19"
      },
      "source": [
        "def myfunc(n):\n",
        "  return lambda a : a * n\n",
        "\n",
        "mydoubler = myfunc(2)\n",
        "mytripler = myfunc(3)\n",
        "\n",
        "print(mydoubler(5))\n",
        "print(mytripler(5))"
      ],
      "execution_count": null,
      "outputs": [
        {
          "output_type": "stream",
          "name": "stdout",
          "text": [
            "22\n",
            "33\n"
          ]
        }
      ]
    }
  ]
}