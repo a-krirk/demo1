{
  "nbformat": 4,
  "nbformat_minor": 2,
  "metadata": {
    "colab": {
      "name": "7.2Python - String Concatenation.ipynb",
      "provenance": []
    },
    "kernelspec": {
      "name": "python3",
      "display_name": "Python 3.8.5 64-bit ('base': conda)"
    },
    "language_info": {
      "name": "python",
      "version": "3.8.5",
      "mimetype": "text/x-python",
      "codemirror_mode": {
        "name": "ipython",
        "version": 3
      },
      "pygments_lexer": "ipython3",
      "nbconvert_exporter": "python",
      "file_extension": ".py"
    },
    "interpreter": {
      "hash": "00034aa5cd6c44013b830fd98c7a620a61a498e75425ca81fcc1166b84a69895"
    }
  },
  "cells": [
    {
      "cell_type": "markdown",
      "source": [
        "# การทำ String Concatenation"
      ],
      "metadata": {
        "id": "LBhvieXuhM--"
      }
    },
    {
      "cell_type": "markdown",
      "source": [
        "## String Concatenation\r\n",
        "\r\n",
        "สามารถใช้เครื่องหมาย + เพื่อต่อ string สองตัวเข้าด้วยกัน"
      ],
      "metadata": {
        "id": "ilYq-LUBhOGh"
      }
    },
    {
      "cell_type": "markdown",
      "source": [
        "## ตัวอย่าง\r\n",
        "ต่อ string a กับ b เข้าด้วยกันเป็น string c"
      ],
      "metadata": {
        "id": "WQ5CMtSlhQjP"
      }
    },
    {
      "cell_type": "code",
      "execution_count": 2,
      "source": [
        "a = \"เหตุผลที่ไม่ควร\"\r\n",
        "b = \"มีเหตุผล\"\r\n",
        "c = a + b\r\n",
        "print(c)"
      ],
      "outputs": [
        {
          "output_type": "stream",
          "name": "stdout",
          "text": [
            "เหตุผลที่ไม่ควรมีเหตุผล\n"
          ]
        }
      ],
      "metadata": {
        "id": "PSoaCXJ1hTln",
        "colab": {
          "base_uri": "https://localhost:8080/"
        },
        "outputId": "4188c140-5ad0-43f7-8b5d-50adceff88a7"
      }
    }
  ]
}