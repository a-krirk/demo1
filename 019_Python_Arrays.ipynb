{
  "nbformat": 4,
  "nbformat_minor": 2,
  "metadata": {
    "colab": {
      "name": "สำเนาของ 019_Python_Arrays.ipynb",
      "provenance": [],
      "collapsed_sections": [],
      "toc_visible": true
    },
    "kernelspec": {
      "name": "python3",
      "display_name": "Python 3"
    },
    "language_info": {
      "name": "python"
    }
  },
  "cells": [
    {
      "cell_type": "markdown",
      "source": [
        "# Arrays\r\n"
      ],
      "metadata": {
        "id": "rtIIlsl__qqD"
      }
    },
    {
      "cell_type": "markdown",
      "source": [
        "Arrays ใช้เก็บข้อมูลที่เป็นประเภทเดียวกัน (ผสมกันไม่ได้) เช่น เป็น int ทุกค่า หรือเป็นเป็น float ทุกค่า\n",
        "\n"
      ],
      "metadata": {
        "id": "-pXKoH8U_sIF"
      }
    },
    {
      "cell_type": "markdown",
      "source": [
        "## ตัวอย่าง\r\n",
        "\r\n",
        "สร้าง array ที่ใช้เก็บชื่อยี่ห้อรถ\r\n"
      ],
      "metadata": {
        "id": "nSKIMjNu_tq6"
      }
    },
    {
      "cell_type": "code",
      "execution_count": null,
      "source": [
        "cars = [\"Toyota\", \"Honda\", \"BMW\"]"
      ],
      "outputs": [
        {
          "output_type": "execute_result",
          "data": {
            "text/plain": [
              "['Toyota', 'Honda', 'BMW']"
            ]
          },
          "metadata": {},
          "execution_count": 9
        }
      ],
      "metadata": {
        "id": "6A0NtqZ4_pWh",
        "colab": {
          "base_uri": "https://localhost:8080/"
        },
        "outputId": "1d0ad2e3-9330-413c-bc2c-e901546d14b4"
      }
    },
    {
      "cell_type": "markdown",
      "source": [
        "## Array คืออะไร\n",
        "array เป็นตัวแปรพิเศษที่ใช้เก็บค่าได้มากกว่าหนึ่งค่า\n",
        "\n",
        "โดยปกติถ้าคุณมีชื่อยี่ห้อรถหลายยี่ห้อ มักจะใช้ 1 ตัวแปรเพื่อใช้เก็บยี่ห้อรถ 1 ยี่ห้อ เช่น\n",
        "\n",
        "car1 = \"**Toyota**\"\n",
        "\n",
        "car2 = \"**Honda**\"\n",
        "\n",
        "car3 = \"**BMW**\"\n",
        "\n",
        "แต่เมื่อไหร่ก็ตามถ้าต้องการวน loop เพื่อค้นหายี่ห้อรถสัก 1 ยี่ห้อ จากทั้งหมด 300 ยี่ห้อ ความยุ่งยากจะเกิดขึ้นทันทีหากกำหนด 1 ตัวแปรต่อ 1 ยี่ห้อ\n",
        "\n",
        "ดังนั้น การใช้ array จะมาช่วยแก้ปัญหานี้\n",
        "\n",
        "การสร้าง array ด้วยชื่อเฉพาะเพียงชื่อเดียว สามารถเก็บค่า (ยี่ห้อรถ)ได้มากมาย โดยที่คุณสามารถเข้าถึงค่า (ยี่ห้อรถ) ได้ด้วยการใช้ตัวเลขอ้างอิง (index number)\n",
        "\n"
      ],
      "metadata": {
        "id": "wLCugyqo_2-o"
      }
    },
    {
      "cell_type": "markdown",
      "source": [
        "## การเข้าถึง Elements ของ Array\n",
        "คุณสามารถเข้าถึงค่าต่าง ๆ ใน array ได้ด้วยการใช้ตัวเลขอ้างอิง (index number)\n",
        "โดยตัวเลขอ้างอิงเริ่มต้นที่เลข 0 จะใช้แทนข้อมูลหรือค่าตัวที่ 1 ของ array\n",
        "\n"
      ],
      "metadata": {
        "id": "EgsSaHhr_4f1"
      }
    },
    {
      "cell_type": "markdown",
      "source": [
        "## ตัวอย่าง\r\n",
        "การเข้าถึงข้อมูลตัวที่ 1 ภายใน array\r\n",
        "\r\n"
      ],
      "metadata": {
        "id": "79v8RcPq_5Ij"
      }
    },
    {
      "cell_type": "code",
      "execution_count": null,
      "source": [
        "x = cars[0]"
      ],
      "outputs": [
        {
          "output_type": "stream",
          "name": "stdout",
          "text": [
            "Volvo\n"
          ]
        }
      ],
      "metadata": {
        "id": "MW9jmYub_58T",
        "colab": {
          "base_uri": "https://localhost:8080/"
        },
        "outputId": "add9b9a7-627d-4fda-8f42-6f01583efb7d"
      }
    },
    {
      "cell_type": "markdown",
      "source": [
        "## ตัวอย่าง\r\n",
        "การเปลี่ยนข้อมูลตัวที่ 1 ของ array\r\n",
        "\r\n"
      ],
      "metadata": {
        "id": "SXXv4pu9_7a1"
      }
    },
    {
      "cell_type": "code",
      "execution_count": null,
      "source": [
        "cars[0] = \"Volvo\""
      ],
      "outputs": [
        {
          "output_type": "stream",
          "name": "stdout",
          "text": [
            "['Volvo', 'Honda', 'BMW']\n"
          ]
        }
      ],
      "metadata": {
        "id": "yTwKQjUUBQT9",
        "colab": {
          "base_uri": "https://localhost:8080/"
        },
        "outputId": "070f4495-3698-4a12-cbf2-6b424d5ffa68"
      }
    },
    {
      "cell_type": "markdown",
      "source": [
        "## การหาความยาวของ Array\r\n",
        "\r\n",
        "ใช้ method `len()` เพื่อใช้บอกความยาวหรือจำนวนข้อมูลทั้งหมดที่อยู่ใน array\r\n",
        "\r\n"
      ],
      "metadata": {
        "id": "siwQb8MU__AF"
      }
    },
    {
      "cell_type": "markdown",
      "source": [
        "## ตัวอย่าง\r\n",
        "ต้องการทราบความยาว (จำนวนข้อมูลทั้งหมด) ของ array **cars** \r\n",
        "\r\n"
      ],
      "metadata": {
        "id": "QgiawWXmACvh"
      }
    },
    {
      "cell_type": "code",
      "execution_count": null,
      "source": [
        "x = len(cars)"
      ],
      "outputs": [
        {
          "output_type": "stream",
          "name": "stdout",
          "text": [
            "3\n"
          ]
        }
      ],
      "metadata": {
        "id": "RU4l-E94AAWu",
        "colab": {
          "base_uri": "https://localhost:8080/"
        },
        "outputId": "6642c3fc-d68f-48ce-d3a1-d4a82faff589"
      }
    }
  ]
}