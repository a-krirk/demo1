{
  "nbformat": 4,
  "nbformat_minor": 2,
  "metadata": {
    "colab": {
      "name": "30.Python file handling.ipynb",
      "provenance": []
    },
    "kernelspec": {
      "name": "python3",
      "display_name": "Python 3"
    },
    "language_info": {
      "name": "python"
    }
  },
  "cells": [
    {
      "cell_type": "markdown",
      "source": [
        "# การจัดการกับไฟล์"
      ],
      "metadata": {
        "id": "hizDZ5525nju"
      }
    },
    {
      "cell_type": "markdown",
      "source": [
        "Python มี function หลายตัวสำหรับการจัดการกับไฟล์ ตั้งแต่การสร้างไฟล์ อ่านไฟล์ อัพเดทไฟล์ และการลบไฟล์"
      ],
      "metadata": {
        "id": "Cs2U0kUc50x9"
      }
    },
    {
      "cell_type": "markdown",
      "source": [
        "## การเปิดไฟล์ open()"
      ],
      "metadata": {}
    },
    {
      "cell_type": "markdown",
      "source": [
        "สามาถใช้ฟังก์ชั่น open() เพื่อเปิดไฟล์สำหรับเตรียมดำเนินการต่อไปกับไฟล์\r\n",
        "\r\n",
        "ฟังก์ชั่น open() รับค่า parameter สองตัว คือ filename และ mode\r\n",
        "\r\n",
        "mode ในการเปิดไฟล์มี 4 mode ดังนี้\r\n",
        "\r\n",
        "\"r\" - Read - เป็นค่าเริ่มต้น. ใช้สำหรับการอ่านไฟล์ จะ return error ถ้าไม่พบไฟล์ที่จะเปิดอ่าน\r\n",
        "\r\n",
        "\"a\" - Append - ใช้สำหรับเขียนไฟล์ต่อจากเดิม จะสร้างไฟล์ขึ้นมาถ้าไม่พบไฟล์ที่จะเปิดอ่าน\r\n",
        "\r\n",
        "\"w\" - Write - ใช้สำหรับเขียนไฟล์ จะสร้างไฟล์ขึ้นมาถ้าไม่พบไฟล์ที่จะเปิดอ่าน\r\n",
        "\r\n",
        "\"x\" - Create - ใช้สำหรับสร้างไฟล์ขึ้นใหม่ จะ return error มาถ้ามีไฟล์นั้นอยู่แล้ว\r\n",
        "\r\n",
        "นอกจากนี้ สามารถกำหนดได้ว่าจะจัดการกับไฟล์ในฐานะที่เป็น binary หรือ text\r\n",
        "\r\n",
        "\"t\" - Text - เป็นค่าเริ่มต้น จัดการกับไฟล์ในฐานะที่เป็น Text \r\n",
        "\r\n",
        "\"b\" - Binary - Binary mode มักใช้กับไฟล์ที่ไม่ได้เป็น Text เช่น ไฟล์รูปภาพ"
      ],
      "metadata": {
        "id": "NbAOZj6853q1"
      }
    },
    {
      "cell_type": "markdown",
      "source": [
        "## ตัวอย่าง\r\n",
        "\r\n",
        "ถ้าต้องการเปิดไฟล์เพื่ออ่านอย่างเดียว ก็สามารถใส่เฉพาะชื่อไฟล์ได้เลย"
      ],
      "metadata": {
        "id": "nP5mRD9t6Dhk"
      }
    },
    {
      "cell_type": "code",
      "execution_count": null,
      "source": [
        "f = open(\"example.txt\")"
      ],
      "outputs": [],
      "metadata": {
        "id": "gcofnQ4B5JWF"
      }
    },
    {
      "cell_type": "markdown",
      "source": [
        "ซึ่งให้ผลเหมือนกับ code ข้างล่างนี้"
      ],
      "metadata": {
        "id": "38bH30136NdE"
      }
    },
    {
      "cell_type": "code",
      "execution_count": null,
      "source": [
        "f = open(\"example.txt\", \"rt\")"
      ],
      "outputs": [],
      "metadata": {
        "id": "hsyxP9ru6Qzt"
      }
    },
    {
      "cell_type": "markdown",
      "source": [
        "ซึ่งจริง ๆ แล้ว r กับ t เป็นค่าเริ่มต้นอยู่แล้ว จึงไม่จำเป็นต้องใส่ก็ได้"
      ],
      "metadata": {
        "id": "FZCsVlFR6HAN"
      }
    },
    {
      "cell_type": "markdown",
      "source": [
        "## การปิดไฟล์"
      ],
      "metadata": {
        "id": "XKgVweyf6foc"
      }
    },
    {
      "cell_type": "markdown",
      "source": [
        "ควรจะปิดไฟล์ทุกครั้ง โดยใช้ฟังก์ชั่น close() หลังจากที่ได้เปิดไฟล์และจัดการกับไฟล์แล้วทุกครั้ง เพื่อประหยัดหน่วยความจำ"
      ],
      "metadata": {
        "id": "vPZfns4E6zfN"
      }
    },
    {
      "cell_type": "markdown",
      "source": [
        "## ตัวอย่าง\r\n",
        "ปิดไฟล์โดยใช้ close() เมื่อจัดการกับไฟล์เรียบร้อยแล้ว"
      ],
      "metadata": {
        "id": "b5rzMaP164M4"
      }
    },
    {
      "cell_type": "code",
      "execution_count": null,
      "source": [
        "f = open(\"exmaple.txt\", \"r\")\r\n",
        "print(f.readline())\r\n",
        "f.close()"
      ],
      "outputs": [],
      "metadata": {
        "id": "k_mDv-jM6_8j"
      }
    },
    {
      "cell_type": "markdown",
      "source": [
        "## การลบไฟล์"
      ],
      "metadata": {
        "id": "Tenvqfzf7ZEc"
      }
    },
    {
      "cell_type": "markdown",
      "source": [
        "สามารถ import os module และใช้ method os.remove() เพื่อลบไฟล์ที่ไม่ต้องการใช้แล้ว"
      ],
      "metadata": {
        "id": "-4SUX0jA7RGQ"
      }
    },
    {
      "cell_type": "markdown",
      "source": [
        "## ตัวอย่าง\r\n"
      ],
      "metadata": {
        "id": "IlrMOwsQ7g2I"
      }
    },
    {
      "cell_type": "code",
      "execution_count": null,
      "source": [
        "import os\r\n",
        "os.remove(\"example.txt\")"
      ],
      "outputs": [],
      "metadata": {
        "id": "DiGAD0KG7rtc"
      }
    },
    {
      "cell_type": "markdown",
      "source": [
        "## การตรวจสอบว่ามีไฟล์อยู่แล้วหรือไม่"
      ],
      "metadata": {
        "id": "CKJNSWaI70tt"
      }
    },
    {
      "cell_type": "markdown",
      "source": [
        "เพื่อป้องกันไม่ให้เกิด error ควรจะตรวจสอบว่ามีไฟล์นั้นอยู่แล้วหรือไม่ ก่อนจะดำเนินการใด ๆ กับไฟล์"
      ],
      "metadata": {
        "id": "UteZTkFK7ugs"
      }
    },
    {
      "cell_type": "markdown",
      "source": [
        "## ตัวอย่าง\r\n",
        "\r\n",
        "ตรวจสอบว่ามีไฟล์นี้อยู่หรือไม่ ก่อนจะลบไฟล์โดยใช้ method os.remove()\r\n"
      ],
      "metadata": {
        "id": "i2VL8kil8Brp"
      }
    },
    {
      "cell_type": "code",
      "execution_count": null,
      "source": [
        "import os\r\n",
        "if os.path.exists(\"example.txt\"):\r\n",
        "  os.remove(\"example.txt\")\r\n",
        "else:\r\n",
        "  print(\"The file does not exist\")"
      ],
      "outputs": [],
      "metadata": {
        "id": "C28ZRA0l8Jao"
      }
    },
    {
      "cell_type": "markdown",
      "source": [
        "## การลบทั้ง folder"
      ],
      "metadata": {
        "id": "s9M1gzNv8Mp-"
      }
    },
    {
      "cell_type": "markdown",
      "source": [
        "สามารถใช้ method os.rmdir() เพื่อลบทั้ง folder ในครั้งเดียว"
      ],
      "metadata": {
        "id": "ZJe5sqb68Rw9"
      }
    },
    {
      "cell_type": "markdown",
      "source": [
        "## ตัวอย่าง\r\n",
        "\r\n",
        "ลบ folder ที่ชื่อ 'thisfolder' ทั้ง folder"
      ],
      "metadata": {
        "id": "FLGCno4x8YNJ"
      }
    },
    {
      "cell_type": "code",
      "execution_count": null,
      "source": [
        "import os\r\n",
        "os.rmdir(\"thisfolder\")"
      ],
      "outputs": [],
      "metadata": {
        "id": "0yBsf_EM8Wid"
      }
    }
  ]
}