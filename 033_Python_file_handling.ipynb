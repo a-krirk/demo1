{
  "nbformat": 4,
  "nbformat_minor": 2,
  "metadata": {
    "colab": {
      "name": "30.Python file handling.ipynb",
      "provenance": []
    },
    "kernelspec": {
      "name": "python3",
      "display_name": "Python 3"
    },
    "language_info": {
      "name": "python"
    }
  },
  "cells": [
    {
      "cell_type": "markdown",
      "source": [
        "# การจัดการกับไฟล์"
      ],
      "metadata": {
        "id": "hizDZ5525nju"
      }
    },
    {
      "cell_type": "markdown",
      "source": [
        "File handling is an important part of any web application.\n",
        "\n",
        "Python has several functions for creating, reading, updating, and deleting files."
      ],
      "metadata": {
        "id": "Cs2U0kUc50x9"
      }
    },
    {
      "cell_type": "markdown",
      "source": [
        "The key function for working with files in Python is the open() function.\n",
        "\n",
        "The open() function takes two parameters; filename, and mode.\n",
        "\n",
        "There are four different methods (modes) for opening a file:\n",
        "\n",
        "\"r\" - Read - Default value. Opens a file for reading, error if the file does not exist\n",
        "\n",
        "\"a\" - Append - Opens a file for appending, creates the file if it does not exist\n",
        "\n",
        "\"w\" - Write - Opens a file for writing, creates the file if it does not exist\n",
        "\n",
        "\"x\" - Create - Creates the specified file, returns an error if the file exists\n",
        "\n",
        "In addition you can specify if the file should be handled as binary or text mode\n",
        "\n",
        "\"t\" - Text - Default value. Text mode\n",
        "\n",
        "\"b\" - Binary - Binary mode (e.g. images)"
      ],
      "metadata": {
        "id": "NbAOZj6853q1"
      }
    },
    {
      "cell_type": "markdown",
      "source": [
        "## ตัวอย่าง\r\n",
        "To open a file for reading it is enough to specify the name of the file:"
      ],
      "metadata": {
        "id": "nP5mRD9t6Dhk"
      }
    },
    {
      "cell_type": "code",
      "execution_count": null,
      "source": [
        "f = open(\"test.txt\")"
      ],
      "outputs": [],
      "metadata": {
        "id": "gcofnQ4B5JWF"
      }
    },
    {
      "cell_type": "markdown",
      "source": [
        "The code above is the same as:"
      ],
      "metadata": {
        "id": "38bH30136NdE"
      }
    },
    {
      "cell_type": "code",
      "execution_count": null,
      "source": [
        "f = open(\"test.txt\", \"rt\")"
      ],
      "outputs": [],
      "metadata": {
        "id": "hsyxP9ru6Qzt"
      }
    },
    {
      "cell_type": "markdown",
      "source": [
        "Because \"r\" for read, and \"t\" for text are the default values, you do not need to specify them."
      ],
      "metadata": {
        "id": "FZCsVlFR6HAN"
      }
    },
    {
      "cell_type": "markdown",
      "source": [
        "## การปิดไฟล์"
      ],
      "metadata": {
        "id": "XKgVweyf6foc"
      }
    },
    {
      "cell_type": "markdown",
      "source": [
        "It is a good practice to always close the file when you are done with it."
      ],
      "metadata": {
        "id": "vPZfns4E6zfN"
      }
    },
    {
      "cell_type": "markdown",
      "source": [
        "## ตัวอย่าง\r\n",
        "Close the file when you are finish with it:"
      ],
      "metadata": {
        "id": "b5rzMaP164M4"
      }
    },
    {
      "cell_type": "code",
      "execution_count": null,
      "source": [
        "f = open(\"test.txt\", \"r\")\r\n",
        "print(f.readline())\r\n",
        "f.close()"
      ],
      "outputs": [],
      "metadata": {
        "id": "k_mDv-jM6_8j"
      }
    },
    {
      "cell_type": "markdown",
      "source": [
        "## การลบไฟล์"
      ],
      "metadata": {
        "id": "Tenvqfzf7ZEc"
      }
    },
    {
      "cell_type": "markdown",
      "source": [
        "To delete a file, you must import the OS module, and run its os.remove() function:"
      ],
      "metadata": {
        "id": "-4SUX0jA7RGQ"
      }
    },
    {
      "cell_type": "markdown",
      "source": [
        "## ตัวอย่าง\r\n"
      ],
      "metadata": {
        "id": "IlrMOwsQ7g2I"
      }
    },
    {
      "cell_type": "code",
      "execution_count": null,
      "source": [
        "import os\r\n",
        "os.remove(\"test.txt\")"
      ],
      "outputs": [],
      "metadata": {
        "id": "DiGAD0KG7rtc"
      }
    },
    {
      "cell_type": "markdown",
      "source": [
        "## การตรวจสอบว่ามีไฟล์อยู่แล้วหรือไม่"
      ],
      "metadata": {
        "id": "CKJNSWaI70tt"
      }
    },
    {
      "cell_type": "markdown",
      "source": [
        "To avoid getting an error, you might want to check if the file exists before you try to delete it:"
      ],
      "metadata": {
        "id": "UteZTkFK7ugs"
      }
    },
    {
      "cell_type": "markdown",
      "source": [
        "## ตัวอย่าง\r\n",
        "Check if file exists, then delete it:\r\n"
      ],
      "metadata": {
        "id": "i2VL8kil8Brp"
      }
    },
    {
      "cell_type": "code",
      "execution_count": null,
      "source": [
        "import os\r\n",
        "if os.path.exists(\"test.txt\"):\r\n",
        "  os.remove(\"test.txt\")\r\n",
        "else:\r\n",
        "  print(\"The file does not exist\")"
      ],
      "outputs": [],
      "metadata": {
        "id": "C28ZRA0l8Jao"
      }
    },
    {
      "cell_type": "markdown",
      "source": [
        "## การลบทั้ง folder"
      ],
      "metadata": {
        "id": "s9M1gzNv8Mp-"
      }
    },
    {
      "cell_type": "markdown",
      "source": [
        "To delete an entire folder, use the os.rmdir() method:"
      ],
      "metadata": {
        "id": "ZJe5sqb68Rw9"
      }
    },
    {
      "cell_type": "markdown",
      "source": [
        "## ตัวอย่าง\r\n",
        "Remove the folder \"myfolder\":\r\n"
      ],
      "metadata": {
        "id": "FLGCno4x8YNJ"
      }
    },
    {
      "cell_type": "code",
      "execution_count": null,
      "source": [
        "import os\r\n",
        "os.rmdir(\"myfolder\")"
      ],
      "outputs": [],
      "metadata": {
        "id": "0yBsf_EM8Wid"
      }
    }
  ]
}