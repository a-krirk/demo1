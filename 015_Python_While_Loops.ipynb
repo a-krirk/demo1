{
  "nbformat": 4,
  "nbformat_minor": 2,
  "metadata": {
    "colab": {
      "name": "สำเนาของ 015_Python_While_Loops.ipynb",
      "provenance": []
    },
    "kernelspec": {
      "name": "python3",
      "display_name": "Python 3.8.5 64-bit ('base': conda)"
    },
    "language_info": {
      "name": "python",
      "version": "3.8.5",
      "mimetype": "text/x-python",
      "codemirror_mode": {
        "name": "ipython",
        "version": 3
      },
      "pygments_lexer": "ipython3",
      "nbconvert_exporter": "python",
      "file_extension": ".py"
    },
    "interpreter": {
      "hash": "00034aa5cd6c44013b830fd98c7a620a61a498e75425ca81fcc1166b84a69895"
    }
  },
  "cells": [
    {
      "cell_type": "markdown",
      "source": [
        "# While loops\r\n"
      ],
      "metadata": {
        "id": "fiUclbDVv4oP"
      }
    },
    {
      "cell_type": "markdown",
      "source": [
        "Python มี loop พื้นฐาน 2 ประเภท\r\n",
        "\r\n",
        "*   `while` loops\r\n",
        "*   `for` loops\r\n",
        "\r\n"
      ],
      "metadata": {
        "id": "RxzJhZywv9az"
      }
    },
    {
      "cell_type": "markdown",
      "source": [
        "# การใช้ while loop\r\n",
        "\r\n",
        "`while` loop จะประมวลผลวนไปซ้ำ ๆ จนกว่าเงื่อนไขจะไม่เป็นจริง\r\n"
      ],
      "metadata": {
        "id": "JzAzLrSNv_g5"
      }
    },
    {
      "cell_type": "markdown",
      "source": [
        "## ตัวอย่าง\n",
        "ปริ้น x ถ้า x มีค่าน้อยกว่า 3:\n",
        "\n"
      ],
      "metadata": {
        "id": "w2_ba_LWwA60"
      }
    },
    {
      "cell_type": "code",
      "execution_count": 1,
      "source": [
        "x = 1\r\n",
        "while x < 3:\r\n",
        "  print(x)\r\n",
        "  x += 1"
      ],
      "outputs": [
        {
          "output_type": "stream",
          "name": "stdout",
          "text": [
            "1\n",
            "2\n"
          ]
        }
      ],
      "metadata": {
        "colab": {
          "base_uri": "https://localhost:8080/"
        },
        "id": "4Q_vCdA9v4CQ",
        "outputId": "18f975e6-f94b-462e-ecd9-9679f5ee4a93"
      }
    },
    {
      "cell_type": "markdown",
      "source": [
        "`while` loop จำเป็นต้องกำหนดตัวแปร (เช่น x, y หรือ z) ก่อน เพื่อใช้อัพเดทค่าของตัวแปรในการวนประมวลผลรอบต่อไป\r\n",
        "\r\n"
      ],
      "metadata": {
        "id": "PhM6UYMj4yVc"
      }
    },
    {
      "cell_type": "markdown",
      "source": [
        "# การใช้ break statement\r\n",
        "\r\n",
        "ใช้คำสั่ง `break` เพื่อหยุดการประมวลผล โดยเมื่อเงื่อนไขเป็นจริง (True) และพบคำสั่ง break ก็จะออกจาก loop นั้นทันที\r\n"
      ],
      "metadata": {
        "id": "I2AXOEWlwIyj"
      }
    },
    {
      "cell_type": "markdown",
      "source": [
        "## ตัวอย่าง\n",
        "ออกจาก loop ทันที เมื่อ x มีค่าเท่ากับ 3:\n",
        "\n"
      ],
      "metadata": {
        "id": "lHwHX4qJwKHQ"
      }
    },
    {
      "cell_type": "code",
      "execution_count": 2,
      "source": [
        "x = 1\r\n",
        "while x < 6:\r\n",
        "  print(x)\r\n",
        "  if x == 3:\r\n",
        "    break\r\n",
        "  x += 1"
      ],
      "outputs": [
        {
          "output_type": "stream",
          "name": "stdout",
          "text": [
            "1\n",
            "2\n",
            "3\n"
          ]
        }
      ],
      "metadata": {
        "colab": {
          "base_uri": "https://localhost:8080/"
        },
        "id": "T2_EVfscx4a_",
        "outputId": "d6323eff-f475-45e0-c8e3-9e7c36e6c4e6"
      }
    },
    {
      "cell_type": "markdown",
      "source": [
        "# การใช้ continue statement\r\n",
        "ใช้คำสั่ง `continue` เพื่อข้ามไปวน loop รอบต่อไป"
      ],
      "metadata": {
        "id": "2VoJNitLwKwl"
      }
    },
    {
      "cell_type": "markdown",
      "source": [
        "## ตัวอย่าง\r\n",
        "ข้ามไปวน loop รอบต่อไปทันที ถ้า x มีค่าเท่ากับ 3\r\n",
        "\r\n"
      ],
      "metadata": {
        "id": "MyIrm8TkwLr7"
      }
    },
    {
      "cell_type": "code",
      "execution_count": 3,
      "source": [
        "x = 0\r\n",
        "while x < 6:\r\n",
        "  x += 1\r\n",
        "  if x == 3:\r\n",
        "    continue\r\n",
        "  print(x)"
      ],
      "outputs": [
        {
          "output_type": "stream",
          "name": "stdout",
          "text": [
            "1\n",
            "2\n",
            "4\n",
            "5\n",
            "6\n"
          ]
        }
      ],
      "metadata": {
        "colab": {
          "base_uri": "https://localhost:8080/"
        },
        "id": "9pNvzg2fy9jK",
        "outputId": "b4df4264-cae0-44a0-bc69-ecb6ce780f9b"
      }
    },
    {
      "cell_type": "markdown",
      "source": [
        "# การใช้ else statement\r\n",
        "ใช้คำสั่ง `else` เพื่อกระทำการบางอย่าง ถ้าเงื่อนไขไม่เป็นจริง (False)\r\n",
        "\r\n"
      ],
      "metadata": {
        "id": "KH7gvt8PwMY3"
      }
    },
    {
      "cell_type": "markdown",
      "source": [
        "## ตัวอย่าง\n",
        "ปริ้นข้อความ \"x มีค่าไม่น้อยกว่า 6\" ถ้าเงื่อนไขไม่เป็นจริง (False)\n",
        "\n"
      ],
      "metadata": {
        "id": "iqoAdK3gwNC8"
      }
    },
    {
      "cell_type": "code",
      "execution_count": 4,
      "source": [
        "x = 1\r\n",
        "while x < 6:\r\n",
        "  print(x)\r\n",
        "  x += 1\r\n",
        "else:\r\n",
        "  print(\"x มีค่าไม่น้อยกว่า 6\")"
      ],
      "outputs": [
        {
          "output_type": "stream",
          "name": "stdout",
          "text": [
            "1\n",
            "2\n",
            "3\n",
            "4\n",
            "5\n",
            "x มีค่าไม่น้อยกว่า 6\n"
          ]
        }
      ],
      "metadata": {
        "colab": {
          "base_uri": "https://localhost:8080/"
        },
        "id": "ScfQHEj3zLBT",
        "outputId": "b8d69e09-39bb-4c35-e407-67940840414c"
      }
    }
  ]
}