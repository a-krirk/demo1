{
  "nbformat": 4,
  "nbformat_minor": 0,
  "metadata": {
    "colab": {
      "name": "สำเนาของ 015_Python_While_Loops.ipynb",
      "provenance": []
    },
    "kernelspec": {
      "name": "python3",
      "display_name": "Python 3"
    },
    "language_info": {
      "name": "python"
    }
  },
  "cells": [
    {
      "cell_type": "markdown",
      "metadata": {
        "id": "fiUclbDVv4oP"
      },
      "source": [
        "#Python while loops\n"
      ]
    },
    {
      "cell_type": "markdown",
      "metadata": {
        "id": "RxzJhZywv9az"
      },
      "source": [
        "## Python Loops\n",
        "Python มี loop พื้นฐาน 2 ประเภท\n",
        "\n",
        "*   **while** loops\n",
        "*   **for** loops\n",
        "\n"
      ]
    },
    {
      "cell_type": "markdown",
      "metadata": {
        "id": "JzAzLrSNv_g5"
      },
      "source": [
        "# การใช้ while loop\n",
        "**while** loop จะประมวลผลวนไปซ้ำ ๆ จนกว่าเงื่อนไขหนึ่งจะเป็นจริง (True)\n"
      ]
    },
    {
      "cell_type": "markdown",
      "metadata": {
        "id": "w2_ba_LWwA60"
      },
      "source": [
        "## ตัวอย่าง\n",
        "ปริ้น x ถ้า x มีค่าน้อยกว่า 3:\n",
        "\n"
      ]
    },
    {
      "cell_type": "code",
      "metadata": {
        "colab": {
          "base_uri": "https://localhost:8080/"
        },
        "id": "4Q_vCdA9v4CQ",
        "outputId": "18f975e6-f94b-462e-ecd9-9679f5ee4a93"
      },
      "source": [
        "x = 1\n",
        "while x < 3:\n",
        "  print(x)\n",
        "  x += 1"
      ],
      "execution_count": null,
      "outputs": [
        {
          "output_type": "stream",
          "name": "stdout",
          "text": [
            "1\n",
            "2\n"
          ]
        }
      ]
    },
    {
      "cell_type": "markdown",
      "metadata": {
        "id": "PhM6UYMj4yVc"
      },
      "source": [
        "**while** loop จำเป็นต้องกำหนดตัวแปร (เช่น x, y หรือ z) ก่อน เพื่อใช้อัพเดทค่าของตัวแปรในการวนประมวลผลรอบต่อไป\n",
        "\n"
      ]
    },
    {
      "cell_type": "markdown",
      "metadata": {
        "id": "I2AXOEWlwIyj"
      },
      "source": [
        "# การใช้ break statement\n",
        "ใช้คำสั่ง **break** เพื่อหยุดการประมวลผล เมื่อเงื่อนไขเป็นจริง (True): เจอปุ๊ป ออกจาก loop ปั๊ป\n"
      ]
    },
    {
      "cell_type": "markdown",
      "metadata": {
        "id": "lHwHX4qJwKHQ"
      },
      "source": [
        "## ตัวอย่าง\n",
        "ออกจาก loop ทันที เมื่อ x มีค่าเท่ากับ 3:\n",
        "\n"
      ]
    },
    {
      "cell_type": "code",
      "metadata": {
        "colab": {
          "base_uri": "https://localhost:8080/"
        },
        "id": "T2_EVfscx4a_",
        "outputId": "d6323eff-f475-45e0-c8e3-9e7c36e6c4e6"
      },
      "source": [
        "x = 1\n",
        "while x < 6:\n",
        "  print(x)\n",
        "  if x == 3:\n",
        "    break\n",
        "  x += 1"
      ],
      "execution_count": null,
      "outputs": [
        {
          "output_type": "stream",
          "text": [
            "1\n",
            "2\n",
            "3\n"
          ],
          "name": "stdout"
        }
      ]
    },
    {
      "cell_type": "markdown",
      "metadata": {
        "id": "2VoJNitLwKwl"
      },
      "source": [
        "# การใช้ continue statement\n",
        "ใช้คำสั่ง **continue** เพื่อข้ามการแสดงผลตัวแปรล่าสุด และไปวน loop ใหมด้วยตัวแปรต่อไป\n",
        "\n"
      ]
    },
    {
      "cell_type": "markdown",
      "metadata": {
        "id": "MyIrm8TkwLr7"
      },
      "source": [
        "## ตัวอย่าง\n",
        "ข้ามไปประมวลผลด้วยตัวแปรที่มีค่าต่อไปทันที ถ้า x มีค่าเท่ากับ 3\n",
        "\n"
      ]
    },
    {
      "cell_type": "code",
      "metadata": {
        "colab": {
          "base_uri": "https://localhost:8080/"
        },
        "id": "9pNvzg2fy9jK",
        "outputId": "b4df4264-cae0-44a0-bc69-ecb6ce780f9b"
      },
      "source": [
        "x = 0\n",
        "while x < 6:\n",
        "  x += 1\n",
        "  if x == 3:\n",
        "    continue\n",
        "  print(x)"
      ],
      "execution_count": null,
      "outputs": [
        {
          "output_type": "stream",
          "name": "stdout",
          "text": [
            "1\n",
            "2\n",
            "4\n",
            "5\n",
            "6\n"
          ]
        }
      ]
    },
    {
      "cell_type": "markdown",
      "metadata": {
        "id": "KH7gvt8PwMY3"
      },
      "source": [
        "# การใช้ else statement\n",
        "ใช้คำสั่ง **else** เพื่อแสดงผลบางอย่างได้ ถ้าเงื่อนไขไม่เป็นจริง (False)\n",
        "\n"
      ]
    },
    {
      "cell_type": "markdown",
      "metadata": {
        "id": "iqoAdK3gwNC8"
      },
      "source": [
        "## ตัวอย่าง\n",
        "ปริ้นข้อความ \"x มีค่าไม่น้อยกว่า 6\" ถ้าเงื่อนไขไม่เป็นจริง (False)\n",
        "\n"
      ]
    },
    {
      "cell_type": "code",
      "metadata": {
        "colab": {
          "base_uri": "https://localhost:8080/"
        },
        "id": "ScfQHEj3zLBT",
        "outputId": "b8d69e09-39bb-4c35-e407-67940840414c"
      },
      "source": [
        "x = 1\n",
        "while x < 6:\n",
        "  print(x)\n",
        "  x += 1\n",
        "else:\n",
        "  print(\"x มีค่าไม่น้อยกว่า 6\")"
      ],
      "execution_count": null,
      "outputs": [
        {
          "output_type": "stream",
          "name": "stdout",
          "text": [
            "1\n",
            "2\n",
            "3\n",
            "4\n",
            "5\n",
            "x มีค่าไม่น้อยกว่า 6\n"
          ]
        }
      ]
    }
  ]
}