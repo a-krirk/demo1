{
 "cells": [
  {
   "cell_type": "markdown",
   "source": [
    "# Python - Modify Strings"
   ],
   "metadata": {}
  },
  {
   "cell_type": "markdown",
   "source": [
    "Python มี built-in methods หลายตัวที่ใช้งานกับ strings ได้"
   ],
   "metadata": {}
  },
  {
   "cell_type": "markdown",
   "source": [
    "## เปลี่ยนตัวอักษรเป็นตัวพิมพ์ใหญ่"
   ],
   "metadata": {}
  },
  {
   "cell_type": "markdown",
   "source": [
    "## ตัวอย่าง \r\n",
    "\r\n",
    "สามารถใช้ method upper() เพื่อเปลี่ยนตัวอักษรให้กลายเป็นตัวพิมพ์ใหญ่ทั้งหมด"
   ],
   "metadata": {}
  },
  {
   "cell_type": "code",
   "execution_count": 1,
   "source": [
    "a = \"data scientist\"\r\n",
    "print(a.upper())"
   ],
   "outputs": [
    {
     "output_type": "stream",
     "name": "stdout",
     "text": [
      "DATA SCIENTIST\n"
     ]
    }
   ],
   "metadata": {}
  },
  {
   "cell_type": "markdown",
   "source": [
    "## เปลี่ยนตัวอักษรเป็นตัวพิมพ์เล็ก"
   ],
   "metadata": {}
  },
  {
   "cell_type": "markdown",
   "source": [
    "## ตัวอย่าง\r\n",
    "\r\n",
    "สามารถใช้ method lower() เพื่อเปลี่ยนตัวอักษรให้กลายเป็นตัวพิมพ์เล็กทั้งหมด\r\n"
   ],
   "metadata": {}
  },
  {
   "cell_type": "code",
   "execution_count": 2,
   "source": [
    "b = \"Recommendation System\"\r\n",
    "print(b.lower())"
   ],
   "outputs": [
    {
     "output_type": "stream",
     "name": "stdout",
     "text": [
      "recommendation system\n"
     ]
    }
   ],
   "metadata": {}
  },
  {
   "cell_type": "markdown",
   "source": [
    "## กำจัด Whitespace ออกไป"
   ],
   "metadata": {}
  },
  {
   "cell_type": "markdown",
   "source": [
    "## ตัวอย่าง\r\n",
    "\r\n",
    "สามารถใช้ method strip() เพื่อกำจัด whitespace ออกไปจากจุดเริ่มต้นหรือจุดจบของ string"
   ],
   "metadata": {}
  },
  {
   "cell_type": "code",
   "execution_count": 3,
   "source": [
    "c = \"      Machine Learning     \"\r\n",
    "print(c.strip())"
   ],
   "outputs": [
    {
     "output_type": "stream",
     "name": "stdout",
     "text": [
      "Machine Learning\n"
     ]
    }
   ],
   "metadata": {}
  },
  {
   "cell_type": "markdown",
   "source": [
    "## การแทนที่ String"
   ],
   "metadata": {}
  },
  {
   "cell_type": "markdown",
   "source": [
    "## ตัวอย่าง\r\n",
    "\r\n",
    "สามารถใช้ method replace() เพื่อแทนที่ string ด้วย string อีกตัวหนึ่งได้"
   ],
   "metadata": {}
  },
  {
   "cell_type": "code",
   "execution_count": 4,
   "source": [
    "d = \"Smart Boy\"\r\n",
    "print(d.replace(\"B\", \"T\"))"
   ],
   "outputs": [
    {
     "output_type": "stream",
     "name": "stdout",
     "text": [
      "Smart Toy\n"
     ]
    }
   ],
   "metadata": {}
  },
  {
   "cell_type": "markdown",
   "source": [
    "## Split String"
   ],
   "metadata": {}
  },
  {
   "cell_type": "markdown",
   "source": [
    "## ตัวอย่าง\r\n",
    "\r\n",
    "สามารถใช้ method split() เพื่อแบ่ง String ออกเป็นส่วน ๆ โดยใช้ separator ที่ระบุ ซึ่งจะได้ผลลัพธ์ออกมาเป็น list"
   ],
   "metadata": {}
  },
  {
   "cell_type": "code",
   "execution_count": 6,
   "source": [
    "e = \"แอปเปิ้ล,มะละกอ,กล้วย,ส้ม\"\r\n",
    "print(e.split(\",\")) # returns ['แอปเปิ้ล', 'มะละกอ', 'กล้วย', 'ส้ม']"
   ],
   "outputs": [
    {
     "output_type": "stream",
     "name": "stdout",
     "text": [
      "['แอปเปิ้ล', 'มะละกอ', 'กล้วย', 'ส้ม']\n"
     ]
    }
   ],
   "metadata": {}
  }
 ],
 "metadata": {
  "orig_nbformat": 4,
  "language_info": {
   "name": "python",
   "version": "3.8.2",
   "mimetype": "text/x-python",
   "codemirror_mode": {
    "name": "ipython",
    "version": 3
   },
   "pygments_lexer": "ipython3",
   "nbconvert_exporter": "python",
   "file_extension": ".py"
  },
  "kernelspec": {
   "name": "python3",
   "display_name": "Python 3.8.2 32-bit"
  },
  "interpreter": {
   "hash": "8a42e8581704d812f174276cadf47b91a8b3cbce976324507688b69a62b18c0b"
  }
 },
 "nbformat": 4,
 "nbformat_minor": 2
}