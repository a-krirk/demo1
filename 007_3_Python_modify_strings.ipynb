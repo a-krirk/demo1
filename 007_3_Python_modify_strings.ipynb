{
 "cells": [
  {
   "cell_type": "markdown",
   "source": [
    "# Python - Modify Strings"
   ],
   "metadata": {}
  },
  {
   "cell_type": "markdown",
   "source": [
    "Python มี built-in methods หลายตัวที่ใช้งานกับ strings ได้"
   ],
   "metadata": {}
  },
  {
   "cell_type": "markdown",
   "source": [
    "## เปลี่ยนตัวอักษรเป็นตัวพิมพ์ใหญ่"
   ],
   "metadata": {}
  },
  {
   "cell_type": "markdown",
   "source": [
    "## ตัวอย่าง \r\n",
    "\r\n",
    "สามารถใช้ method upper() เพื่อเปลี่ยนตัวอักษรให้กลายเป็นตัวพิมพ์ใหญ่ทั้งหมด"
   ],
   "metadata": {}
  },
  {
   "cell_type": "code",
   "execution_count": 9,
   "source": [
    "a = \"data scientist\"\r\n",
    "print(a.upper())"
   ],
   "outputs": [
    {
     "output_type": "stream",
     "name": "stdout",
     "text": [
      "DATA SCIENTIST\n"
     ]
    }
   ],
   "metadata": {}
  },
  {
   "cell_type": "markdown",
   "source": [
    "## เปลี่ยนตัวอักษรเป็นตัวพิมพ์เล็ก"
   ],
   "metadata": {}
  },
  {
   "cell_type": "markdown",
   "source": [
    "## ตัวอย่าง\r\n",
    "\r\n",
    "สามารถใช้ method lower() เพื่อเปลี่ยนตัวอักษรให้กลายเป็นตัวพิมพ์เล็กทั้งหมด\r\n"
   ],
   "metadata": {}
  },
  {
   "cell_type": "code",
   "execution_count": 10,
   "source": [
    "b = \"Recommendation System\"\r\n",
    "print(b.lower())"
   ],
   "outputs": [
    {
     "output_type": "stream",
     "name": "stdout",
     "text": [
      "recommendation system\n"
     ]
    }
   ],
   "metadata": {}
  },
  {
   "cell_type": "markdown",
   "source": [
    "## กำจัด Whitespace ออกไป"
   ],
   "metadata": {}
  },
  {
   "cell_type": "markdown",
   "source": [
    "## ตัวอย่าง\r\n",
    "\r\n",
    "สามารถใช้ method strip() เพื่อกำจัด whitespace ออกไปจากจุดเริ่มต้นหรือจุดจบของ string"
   ],
   "metadata": {}
  },
  {
   "cell_type": "code",
   "execution_count": 11,
   "source": [
    "c = \"      Machine Learning     \"\r\n",
    "print(c.strip())"
   ],
   "outputs": [
    {
     "output_type": "stream",
     "name": "stdout",
     "text": [
      "Machine Learning\n"
     ]
    }
   ],
   "metadata": {}
  },
  {
   "cell_type": "markdown",
   "source": [
    "## การแทนที่ String"
   ],
   "metadata": {}
  },
  {
   "cell_type": "markdown",
   "source": [
    "## ตัวอย่าง\r\n",
    "\r\n",
    "สามารถใช้ method replace() เพื่อแทนที่ string ด้วย string อีกตัวหนึ่งได้ method replaces a string with another string:"
   ],
   "metadata": {}
  },
  {
   "cell_type": "code",
   "execution_count": 12,
   "source": [
    "d = \"Smart Boy\"\r\n",
    "print(d.replace(\"B\", \"T\"))"
   ],
   "outputs": [
    {
     "output_type": "stream",
     "name": "stdout",
     "text": [
      "Smart Toy\n"
     ]
    }
   ],
   "metadata": {}
  },
  {
   "cell_type": "markdown",
   "source": [
    "## Split String"
   ],
   "metadata": {}
  },
  {
   "cell_type": "markdown",
   "source": [
    "## ตัวอย่าง\r\n",
    "\r\n",
    "สามารถใช้ method split() เพื่อแบ่ง String ออกเป็นส่วน ๆ โดยใช้ separator ที่ระบุ ซึ่งจะได้ผลลัพธ์ออกมาเป็น list"
   ],
   "metadata": {}
  },
  {
   "cell_type": "code",
   "execution_count": 13,
   "source": [
    "e = \"แอปเปิ้ล,มะละกอ,กล้วย,ส้ม\"\r\n",
    "print(e.split(\",\")) # returns ['Hello', ' World!']"
   ],
   "outputs": [
    {
     "output_type": "stream",
     "name": "stdout",
     "text": [
      "['แอปเปิ้ล', 'มะละกอ', 'กล้วย', 'ส้ม']\n"
     ]
    }
   ],
   "metadata": {}
  }
 ],
 "metadata": {
  "orig_nbformat": 4,
  "language_info": {
   "name": "python",
   "version": "3.8.5",
   "mimetype": "text/x-python",
   "codemirror_mode": {
    "name": "ipython",
    "version": 3
   },
   "pygments_lexer": "ipython3",
   "nbconvert_exporter": "python",
   "file_extension": ".py"
  },
  "kernelspec": {
   "name": "python3",
   "display_name": "Python 3.8.5 64-bit ('base': conda)"
  },
  "interpreter": {
   "hash": "00034aa5cd6c44013b830fd98c7a620a61a498e75425ca81fcc1166b84a69895"
  }
 },
 "nbformat": 4,
 "nbformat_minor": 2
}