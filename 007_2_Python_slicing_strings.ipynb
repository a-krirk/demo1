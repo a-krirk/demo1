{
 "cells": [
  {
   "cell_type": "markdown",
   "source": [
    "# การ Slice Strings"
   ],
   "metadata": {}
  },
  {
   "cell_type": "markdown",
   "source": [
    "## Slicing\r\n",
    "\r\n",
    "สามารถกำหนดขอบเขตของตัวอักษรที่ต้องการดึงมาจาก string ได้ โดยการระบุ [index เริ่มต้น : index สิ้นสุด]"
   ],
   "metadata": {}
  },
  {
   "cell_type": "markdown",
   "source": [
    "## ตัวอย่าง\r\n",
    "\r\n",
    "ดึงตัวอักษรตั้งแต่ตัวอักษรตำแหน่งที่ 4 ถึงตัวอักษรตำแหน่งที่ 7 (จะไม่รวมตัวอักษรตำแหน่งที่ 7)"
   ],
   "metadata": {}
  },
  {
   "cell_type": "code",
   "execution_count": 5,
   "source": [
    "a = \"กรุงเทพมหานคร\"\r\n",
    "print(a[4:7])"
   ],
   "outputs": [
    {
     "output_type": "stream",
     "name": "stdout",
     "text": [
      "เทพ\n"
     ]
    }
   ],
   "metadata": {}
  },
  {
   "cell_type": "markdown",
   "source": [
    "## Slice ตั้งแต่เริ่ม\r\n",
    "สามารถ slice ตั้งแต่เริ่มได้ โดยการไม่ระบุ index เริ่มต้น เช่น [:5] จะเป็นการเลือกตัวอักษรตั้งแต่ตัวอักษรตัวแรกถึงตัวอักษรตำแหน่งที่ 5 (ไม่รวมตัวอักษรตำแหน่งที่ 5)"
   ],
   "metadata": {}
  },
  {
   "cell_type": "markdown",
   "source": [
    "## ตัวอย่าง\r\n",
    "\r\n",
    "ดึงตัวอักษรตั้งแต่ตัวแรกถึงตัวอักษรตำแหน่งที่ 6 (ไม่รวมตัวอักษรตำแหน่งที่ 6)"
   ],
   "metadata": {}
  },
  {
   "cell_type": "code",
   "execution_count": 10,
   "source": [
    "b = \"คนอะไรทำไมน่ารักจัง\"\r\n",
    "print(b[:6])"
   ],
   "outputs": [
    {
     "output_type": "stream",
     "name": "stdout",
     "text": [
      "คนอะไร\n"
     ]
    }
   ],
   "metadata": {}
  },
  {
   "cell_type": "markdown",
   "source": [
    "## Slice ไปถึงจุดสิ้นสุด\r\n",
    "\r\n",
    "สามารถ slice ไปถึงจุดสิ้นสุดได้ โดยการไม่ระบุ index สิ้นสุด เช่น [4:] จะเป็นการเลือกตัวอักษรตั้งแต่ตัวอักษรตำแหน่งที่ 4 ไปจนถึงจุดสิ้นสุด"
   ],
   "metadata": {}
  },
  {
   "cell_type": "markdown",
   "source": [
    "## ตัวอย่าง\r\n",
    "\r\n",
    "ดึงตัวอักษรตั้งแต่ตัวอักษรตำแหน่งที่ 6 ไปจนถึงจุดสิ้นสุด"
   ],
   "metadata": {}
  },
  {
   "cell_type": "code",
   "execution_count": 11,
   "source": [
    "c = \"การแก้ปัญหาเริ่มด้วยปัญญา\"\r\n",
    "print(c[6:])"
   ],
   "outputs": [
    {
     "output_type": "stream",
     "name": "stdout",
     "text": [
      "ปัญหาเริ่มด้วยปัญญา\n"
     ]
    }
   ],
   "metadata": {}
  },
  {
   "cell_type": "markdown",
   "source": [
    "## การใช้ Negative index\r\n",
    "\r\n",
    "ใช้ Negative index เพื่อระบุว่าจะเริ่ม slice จากจุดสิ้นสุดของ string\r\n",
    "\r\n",
    "เช่น [-1:] เป็นการเลือกตัวอักษรตัวสุดท้ายใน string "
   ],
   "metadata": {}
  },
  {
   "cell_type": "markdown",
   "source": [
    "## ตัวอย่าง"
   ],
   "metadata": {}
  },
  {
   "cell_type": "code",
   "execution_count": 12,
   "source": [
    "d = \"กินข้าวหรือยัง?\"\r\n",
    "print(d[-1:])"
   ],
   "outputs": [
    {
     "output_type": "stream",
     "name": "stdout",
     "text": [
      "?\n"
     ]
    }
   ],
   "metadata": {}
  },
  {
   "cell_type": "markdown",
   "source": [],
   "metadata": {}
  }
 ],
 "metadata": {
  "orig_nbformat": 4,
  "language_info": {
   "name": "python",
   "version": "3.8.5",
   "mimetype": "text/x-python",
   "codemirror_mode": {
    "name": "ipython",
    "version": 3
   },
   "pygments_lexer": "ipython3",
   "nbconvert_exporter": "python",
   "file_extension": ".py"
  },
  "kernelspec": {
   "name": "python3",
   "display_name": "Python 3.8.5 64-bit ('base': conda)"
  },
  "interpreter": {
   "hash": "00034aa5cd6c44013b830fd98c7a620a61a498e75425ca81fcc1166b84a69895"
  }
 },
 "nbformat": 4,
 "nbformat_minor": 2
}