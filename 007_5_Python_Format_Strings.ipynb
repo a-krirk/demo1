{
  "nbformat": 4,
  "nbformat_minor": 2,
  "metadata": {
    "colab": {
      "name": "7.3Python - Format Strings.ipynb",
      "provenance": []
    },
    "kernelspec": {
      "name": "python3",
      "display_name": "Python 3.8.5 64-bit ('base': conda)"
    },
    "language_info": {
      "name": "python",
      "version": "3.8.5",
      "mimetype": "text/x-python",
      "codemirror_mode": {
        "name": "ipython",
        "version": 3
      },
      "pygments_lexer": "ipython3",
      "nbconvert_exporter": "python",
      "file_extension": ".py"
    },
    "interpreter": {
      "hash": "00034aa5cd6c44013b830fd98c7a620a61a498e75425ca81fcc1166b84a69895"
    }
  },
  "cells": [
    {
      "cell_type": "markdown",
      "source": [
        "# Python - Format Strings"
      ],
      "metadata": {
        "id": "S3yWTTxZh0e2"
      }
    },
    {
      "cell_type": "markdown",
      "source": [
        "## การจัดรูปแบบให้ String \r\n",
        "\r\n",
        "เราไม่สามารถรวม string กับ number เข้าด้วยกัน ดังตัวอย่าง"
      ],
      "metadata": {
        "id": "nETCJXt7iVhm"
      }
    },
    {
      "cell_type": "code",
      "execution_count": 7,
      "source": [
        "age = 38\r\n",
        "txt = \"ผมชื่อสมชาย อายุ \" + age + \"ปี\"\r\n",
        "print(txt)"
      ],
      "outputs": [
        {
          "output_type": "error",
          "ename": "TypeError",
          "evalue": "can only concatenate str (not \"int\") to str",
          "traceback": [
            "\u001b[1;31m---------------------------------------------------------------------------\u001b[0m",
            "\u001b[1;31mTypeError\u001b[0m                                 Traceback (most recent call last)",
            "\u001b[1;32m~\\AppData\\Local\\Temp/ipykernel_15176/2930295943.py\u001b[0m in \u001b[0;36m<module>\u001b[1;34m\u001b[0m\n\u001b[0;32m      1\u001b[0m \u001b[0mage\u001b[0m \u001b[1;33m=\u001b[0m \u001b[1;36m38\u001b[0m\u001b[1;33m\u001b[0m\u001b[1;33m\u001b[0m\u001b[0m\n\u001b[1;32m----> 2\u001b[1;33m \u001b[0mtxt\u001b[0m \u001b[1;33m=\u001b[0m \u001b[1;34m\"ผมชื่อสมชาย อายุ \"\u001b[0m \u001b[1;33m+\u001b[0m \u001b[0mage\u001b[0m \u001b[1;33m+\u001b[0m \u001b[1;34m\"ปี\"\u001b[0m\u001b[1;33m\u001b[0m\u001b[1;33m\u001b[0m\u001b[0m\n\u001b[0m\u001b[0;32m      3\u001b[0m \u001b[0mprint\u001b[0m\u001b[1;33m(\u001b[0m\u001b[0mtxt\u001b[0m\u001b[1;33m)\u001b[0m\u001b[1;33m\u001b[0m\u001b[1;33m\u001b[0m\u001b[0m\n",
            "\u001b[1;31mTypeError\u001b[0m: can only concatenate str (not \"int\") to str"
          ]
        }
      ],
      "metadata": {
        "id": "IOhcrge1im1g",
        "colab": {
          "base_uri": "https://localhost:8080/",
          "height": 207
        },
        "outputId": "a4df780f-53ed-4659-8570-596095646c7a"
      }
    },
    {
      "cell_type": "markdown",
      "source": [
        "ทางที่ดีควรใช้ method format() ในการจัดรูปแบบให้ string \r\n",
        "\r\n",
        "โดยใช้ placeholder {} เพื่อรับค่า argument เข้าไปจัดรูปแบบให้เป็น string"
      ],
      "metadata": {
        "id": "HG9_Asy-io5k"
      }
    },
    {
      "cell_type": "markdown",
      "source": [
        "## ตัวอย่าง\r\n",
        "\r\n",
        "ใช้ method format() เพื่อใส่ตัวเลขเข้าไปใน string"
      ],
      "metadata": {
        "id": "xktSODRUisJ-"
      }
    },
    {
      "cell_type": "code",
      "execution_count": null,
      "source": [
        "age = 38\r\n",
        "txt = \"ผมชื่อสมชาย อายุ {} ปี\"\r\n",
        "print(txt.format(age))"
      ],
      "outputs": [
        {
          "output_type": "stream",
          "name": "stdout",
          "text": [
            "ผมชื่อสมชาย อายุ 38 ปี\n"
          ]
        }
      ],
      "metadata": {
        "id": "oJtjfDzHi55T",
        "colab": {
          "base_uri": "https://localhost:8080/"
        },
        "outputId": "c60d057f-9d2b-41fc-f87d-a72b2a645a24"
      }
    },
    {
      "cell_type": "markdown",
      "source": [
        "สามารถรับ argument กี่ตัวก็ได้ โดยจะแทนค่าเข้าไปใน placeholder ตามลำดับ"
      ],
      "metadata": {
        "id": "-Snr4gBCi7x6"
      }
    },
    {
      "cell_type": "markdown",
      "source": [
        "## ตัวอย่าง"
      ],
      "metadata": {
        "id": "Ky2mv8_-i94u"
      }
    },
    {
      "cell_type": "code",
      "execution_count": null,
      "source": [
        "num = 2\r\n",
        "order = 345\r\n",
        "price = 67.89\r\n",
        "sentence = \"ไก่ {} ชิ้นของออเดอร์ที่ {} ได้แล้วค่ะ รวมแล้ว {} บาทค่ะ\"\r\n",
        "print(sentence.format(num, order, price))"
      ],
      "outputs": [
        {
          "output_type": "stream",
          "name": "stdout",
          "text": [
            "ไก่ 2 ชิ้นของออเดอร์ที่ 345 ได้แล้วค่ะ รวมแล้ว 67.89 บาทค่ะ\n"
          ]
        }
      ],
      "metadata": {
        "id": "0MqrLAIzi_GB",
        "colab": {
          "base_uri": "https://localhost:8080/"
        },
        "outputId": "f650b178-5d32-4440-e181-c64fce189ed7"
      }
    },
    {
      "cell_type": "markdown",
      "source": [
        "สามารถใช้ index number ใส่ลงไปใน placeholder เพื่อกำหนดลำดับของ argument ให้ถูกต้อง"
      ],
      "metadata": {
        "id": "31sT7qPBjG67"
      }
    },
    {
      "cell_type": "markdown",
      "source": [
        "### <font color=\"lightblue\"> Example"
      ],
      "metadata": {
        "id": "9A09_MoljJaN"
      }
    },
    {
      "cell_type": "code",
      "execution_count": null,
      "source": [
        "num = 2\r\n",
        "order = 345\r\n",
        "price = 67.89\r\n",
        "sentence = \"จ่ายเงิน {2} บาท สำหรับออเดอร์ที่ {1} เรียบร้อยแล้วครับ ได้ไก่ทั้งหมด {0} ชิ้นครับ\"\r\n",
        "print(sentence.format(num, order, price))\r\n"
      ],
      "outputs": [
        {
          "output_type": "stream",
          "name": "stdout",
          "text": [
            "จ่ายเงิน 67.89 บาท สำหรับออเดอร์ที่ 345 เรียบร้อยแล้วครับ ได้ไก่ทั้งหมด 2 ชิ้นครับ\n"
          ]
        }
      ],
      "metadata": {
        "id": "CMUEh1ePjKub",
        "colab": {
          "base_uri": "https://localhost:8080/"
        },
        "outputId": "ce95d324-4e19-460d-ab7a-ef0ff99aecb1"
      }
    },
    {
      "cell_type": "code",
      "execution_count": null,
      "source": [],
      "outputs": [],
      "metadata": {}
    }
  ]
}