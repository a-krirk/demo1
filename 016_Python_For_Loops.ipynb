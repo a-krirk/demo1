{
  "nbformat": 4,
  "nbformat_minor": 0,
  "metadata": {
    "colab": {
      "name": "สำเนาของ 016_Python_For_Loops.ipynb",
      "provenance": [],
      "toc_visible": true
    },
    "kernelspec": {
      "name": "python3",
      "display_name": "Python 3"
    },
    "language_info": {
      "name": "python"
    }
  },
  "cells": [
    {
      "cell_type": "markdown",
      "metadata": {
        "id": "z8dwKvEp2gQ_"
      },
      "source": [
        "# Python For Loops"
      ]
    },
    {
      "cell_type": "markdown",
      "metadata": {
        "id": "zDJe1hHF0gRJ"
      },
      "source": [
        "## Python For Loops\n",
        "ใช้สำหรับการรันชุดคำสั่งเดิมซ้ำ ๆ จนกว่าจะตรงตามเงื่อนไขหรือจำนวนรอบที่กำหนด\n",
        "A **for** loop is used for iterating over a sequence (that is either a list, a tuple, a dictionary, a set, or a string).\n",
        "\n",
        "This is less like the **for** keyword in other programming languages, and works more like an iterator method as found in other object-orientated programming languages.\n",
        "\n",
        "With the **for** loop we can execute a set of statements, once for each item in a list, tuple, set etc."
      ]
    },
    {
      "cell_type": "markdown",
      "metadata": {
        "id": "Cto87U7S0h-z"
      },
      "source": [
        "### ตัวอย่าง\n",
        "ปริ้นชื่อสีทั้งหมดที่อยู่ใน list ชื่อ colors\n",
        "\n"
      ]
    },
    {
      "cell_type": "code",
      "metadata": {
        "colab": {
          "base_uri": "https://localhost:8080/"
        },
        "id": "hsscrkTH0S1O",
        "outputId": "ce966ddc-2fee-4bc3-8a2c-6d255bb22097"
      },
      "source": [
        "colors = [\"red\", \"blue\", \"green\"]\n",
        "for x in colors:\n",
        "  print(x)"
      ],
      "execution_count": null,
      "outputs": [
        {
          "output_type": "stream",
          "text": [
            "apple\n",
            "banana\n",
            "cherry\n"
          ],
          "name": "stdout"
        }
      ]
    },
    {
      "cell_type": "markdown",
      "metadata": {
        "id": "lPoxoXzn1XHv"
      },
      "source": [
        "**for** loop ไม่จำเป็นต้องกำหนด indexing variable ก่อนการวน loop\n",
        "\n"
      ]
    },
    {
      "cell_type": "markdown",
      "metadata": {
        "id": "DwRDFJ8H0jdU"
      },
      "source": [
        "## การวน Loop ผ่านตัวแปร String (str)\n",
        "แม้ว่า **str** เป็น object ที่สามารถเข้าถึงผ่านการวนซ้ำ แต่ **str** ก็มีลำดับของตัวอักษรแต่ละตัว \n",
        "\n"
      ]
    },
    {
      "cell_type": "markdown",
      "metadata": {
        "id": "0zbQfvGx0lE2"
      },
      "source": [
        "### ตัวอย่าง\n",
        "การวน loop ผ่านตัวอักษร (str) ในคำว่า \"green\":\n",
        "\n"
      ]
    },
    {
      "cell_type": "code",
      "metadata": {
        "colab": {
          "base_uri": "https://localhost:8080/"
        },
        "id": "FgLnmDJs1hA1",
        "outputId": "d3344a1d-2f55-403f-a888-4fbc12f72478"
      },
      "source": [
        "for x in \"green\":\n",
        "  print(x)\n"
      ],
      "execution_count": null,
      "outputs": [
        {
          "output_type": "stream",
          "name": "stdout",
          "text": [
            "g\n",
            "r\n",
            "e\n",
            "e\n",
            "n\n"
          ]
        }
      ]
    },
    {
      "cell_type": "markdown",
      "metadata": {
        "id": "4PYlnmHt0mcn"
      },
      "source": [
        "##  การใช้ break\n",
        "ใช้คำสั่ง **break** เพื่อหยุดการวน loop หรือออกจาก loop ได้ทันที\n",
        "\n"
      ]
    },
    {
      "cell_type": "markdown",
      "metadata": {
        "id": "pvMoeXAI0oXM"
      },
      "source": [
        "### ตัวอย่าง\n",
        "ออกจาก loop ทันที ถ้า **x** คือ \"green\"\n",
        "\n"
      ]
    },
    {
      "cell_type": "code",
      "metadata": {
        "colab": {
          "base_uri": "https://localhost:8080/"
        },
        "id": "QLanR_m80nNk",
        "outputId": "072ff9e9-0a2b-4f5c-c927-b63ddf3e0b4f"
      },
      "source": [
        "colors = [\"red\", \"blue\", \"green\"]\n",
        "for x in colors:\n",
        "  print(x)\n",
        "  if x == \"green\":\n",
        "    break"
      ],
      "execution_count": null,
      "outputs": [
        {
          "output_type": "stream",
          "text": [
            "apple\n",
            "banana\n"
          ],
          "name": "stdout"
        }
      ]
    },
    {
      "cell_type": "markdown",
      "metadata": {
        "id": "5nQ3q48G0p7Q"
      },
      "source": [
        "### ตัวอย่าง\n",
        "ในโค้ดชุดนี้มีคำสั่ง **break** คือ ออกจาก loop ทันที ถ้า x คือ \"green\" โดยในโค้ดคำสั่ง **break** มาก่อนคำสั่ง print()\n",
        "\n"
      ]
    },
    {
      "cell_type": "code",
      "metadata": {
        "colab": {
          "base_uri": "https://localhost:8080/"
        },
        "id": "qDkIOCTn0qqC",
        "outputId": "9d558b6f-9b79-497e-8118-f1012401bb0b"
      },
      "source": [
        "colors = [\"red\", \"blue\", \"green\"]\n",
        "for x in colors:\n",
        "  if x == \"green\":\n",
        "    break\n",
        "  print(x)"
      ],
      "execution_count": null,
      "outputs": [
        {
          "output_type": "stream",
          "name": "stdout",
          "text": [
            "red\n",
            "blue\n"
          ]
        }
      ]
    },
    {
      "cell_type": "markdown",
      "metadata": {
        "id": "ZESDqMou2Fmu"
      },
      "source": [
        "## การใช้คำสั่ง continue\n",
        "ใช้คำสั่ง **continue** เพื่อหยุดการประมวลผลรอบนี้ และไปวน loop รอบใหม่เพื่อประมวลผลค่าต่อไป\n",
        "\n"
      ]
    },
    {
      "cell_type": "markdown",
      "metadata": {
        "id": "VTCRoRA00r4u"
      },
      "source": [
        "### ตัวอย่าง\n",
        "ไม่ประมวลผลคำสั่ง print(x) ถ้าการวน loop รอบนั้น x คือ \"green\"\n"
      ]
    },
    {
      "cell_type": "code",
      "metadata": {
        "colab": {
          "base_uri": "https://localhost:8080/"
        },
        "id": "U6k5nCxf0smb",
        "outputId": "8595ba0b-e70c-49a6-fade-60a9196364c4"
      },
      "source": [
        "colors = [\"red\", \"blue\", \"green\"]\n",
        "for x in colors:\n",
        "  if x == \"green\":\n",
        "    continue\n",
        "  print(x)"
      ],
      "execution_count": null,
      "outputs": [
        {
          "output_type": "stream",
          "name": "stdout",
          "text": [
            "red\n",
            "blue\n"
          ]
        }
      ]
    },
    {
      "cell_type": "markdown",
      "metadata": {
        "id": "nwk3jMh20wo2"
      },
      "source": [
        "## ฟังก์ชัน range()\n",
        "ฟังก์ชัน **range()** ใช้สำหรับการลำดับจำนวนตัวเลข โดยมีค่าเริ่มต้นเท่ากับ 0 (default) ค่าในการวนรอบต่อไปจะเพิ่มขึ้นทีละ 1 (default) และจบการวน loop ด้วยตัวเลขหนึ่งซึ่งเราสามารถกำหนดเองได้\n",
        "\n"
      ]
    },
    {
      "cell_type": "markdown",
      "metadata": {
        "id": "qcafn8oC0xVa"
      },
      "source": [
        "### ตัวอย่าง\n",
        "การใช้งานฟังก์ชัน **range()**\n",
        "\n"
      ]
    },
    {
      "cell_type": "code",
      "metadata": {
        "colab": {
          "base_uri": "https://localhost:8080/"
        },
        "id": "b1q1bTJw0x6s",
        "outputId": "8b6ea7be-303a-44d8-ec32-4112c3191f41"
      },
      "source": [
        "for x in range(5):\n",
        "  print(x)"
      ],
      "execution_count": null,
      "outputs": [
        {
          "output_type": "stream",
          "name": "stdout",
          "text": [
            "0\n",
            "1\n",
            "2\n",
            "3\n",
            "4\n"
          ]
        }
      ]
    },
    {
      "cell_type": "markdown",
      "metadata": {
        "id": "EuD0-RoC2fA5"
      },
      "source": [
        "ฟังก์ชัน **range()** มีค่าเริ่มต้นเท่ากับ 0 (default) แต่เราสามารถระบุเลขที่เราต้องการได้\n",
        "\n",
        "เช่น **range(3, 6)** หมายถึง เริ่มต้นที่ 3 จบที่เลข 6 (ไม่รวม 6)"
      ]
    },
    {
      "cell_type": "markdown",
      "metadata": {
        "id": "U0PPbJ5o0zFp"
      },
      "source": [
        "### ตัวอย่าง\n",
        "การระบุเลขเริ่มต้นของการวน loop\n",
        "\n"
      ]
    },
    {
      "cell_type": "code",
      "metadata": {
        "colab": {
          "base_uri": "https://localhost:8080/"
        },
        "id": "qPNADRLX2pAt",
        "outputId": "c94739ef-95f8-48b2-a1d8-c31486363fc9"
      },
      "source": [
        "for x in range(3, 6):\n",
        "  print(x)"
      ],
      "execution_count": null,
      "outputs": [
        {
          "output_type": "stream",
          "name": "stdout",
          "text": [
            "3\n",
            "4\n",
            "5\n"
          ]
        }
      ]
    },
    {
      "cell_type": "markdown",
      "metadata": {
        "id": "tkArq2Ph2rDw"
      },
      "source": [
        "ฟังก์ชัน **range()**  การเพิ่มขึ้นของตัวเลข จะมีค่าเพิ่มขึ้นทีละ 1 (ตามค่า default)\n",
        "แต่เราสามารถเปลี่ยนแปลงค่าที่เพิ่มขึ้นได้ โดยการใส่เลขที่ต้องการลงไปเป็น parameter ตัวที่สามของฟังก์ชัน เช่น **range(10, 40, 5)** --> เริ่มต้นที่ 10 ไปจนถึง 40 โดยเพิ่มขึ้นทีละ 5"
      ]
    },
    {
      "cell_type": "markdown",
      "metadata": {
        "id": "Wz-qKigJ0ze1"
      },
      "source": [
        "### ตัวอย่าง\n",
        "ให้ตัวเลขมีค่าเพิ่มขึ้นทีละ 5 (ปกติ default เพิ่มขึ้นทีละ 1)"
      ]
    },
    {
      "cell_type": "code",
      "metadata": {
        "colab": {
          "base_uri": "https://localhost:8080/"
        },
        "id": "KfLpypw400Cs",
        "outputId": "d6745350-2503-45a7-a039-e9525207bb4a"
      },
      "source": [
        "for x in range(10, 40, 5) :\n",
        "  print(x)"
      ],
      "execution_count": null,
      "outputs": [
        {
          "output_type": "stream",
          "name": "stdout",
          "text": [
            "10\n",
            "15\n",
            "20\n",
            "25\n",
            "30\n",
            "35\n"
          ]
        }
      ]
    },
    {
      "cell_type": "markdown",
      "metadata": {
        "id": "mzyABqyb01Wv"
      },
      "source": [
        "## Else ใน For Loop\n",
        "keyword **else** ใน **for** loop เป็นการระบุ block ของโค้ดที่จะประมวลผลเมื่อการวน loop เสร็จสิ้น\n"
      ]
    },
    {
      "cell_type": "markdown",
      "metadata": {
        "id": "NIO_WZSt02qZ"
      },
      "source": [
        "### ตัวอย่าง\n",
        "ปริ้นตัวเลขตั้งแต่ 0 ถึง 5 และปริ้นข้อความเมื่อการวน loop เสร็จสิ้น"
      ]
    },
    {
      "cell_type": "code",
      "metadata": {
        "colab": {
          "base_uri": "https://localhost:8080/"
        },
        "id": "qGYMBU5H03iK",
        "outputId": "1950cd31-603d-4561-bc7f-15a6e4fa7db1"
      },
      "source": [
        "for x in range(6):\n",
        "  print(x)\n",
        "else:\n",
        "  print(\"Finally finished!\")"
      ],
      "execution_count": null,
      "outputs": [
        {
          "output_type": "stream",
          "text": [
            "0\n",
            "1\n",
            "2\n",
            "3\n",
            "4\n",
            "5\n",
            "Finally finished!\n"
          ],
          "name": "stdout"
        }
      ]
    },
    {
      "cell_type": "markdown",
      "metadata": {
        "id": "gYLShmJW05vj"
      },
      "source": [
        "### ตัวอย่าง\n",
        "ออกจาก loop เมื่อ **x** มีค่าเท่ากับ 3 และสังเกตสิ่งที่เกิดขึ้นตามมาในโค้ด block ที่มี keyword **else**"
      ]
    },
    {
      "cell_type": "code",
      "metadata": {
        "colab": {
          "base_uri": "https://localhost:8080/"
        },
        "id": "xMvTjV0A3Nhy",
        "outputId": "54736bdb-b19e-496d-fa9a-3a93a0acbad6"
      },
      "source": [
        "for x in range(6):\n",
        "  if x == 3: break\n",
        "  print(x)\n",
        "else:\n",
        "  print(\"Finally finished!\")"
      ],
      "execution_count": null,
      "outputs": [
        {
          "output_type": "stream",
          "name": "stdout",
          "text": [
            "0\n",
            "1\n",
            "2\n"
          ]
        }
      ]
    },
    {
      "cell_type": "markdown",
      "metadata": {
        "id": "mBi-zdrh06cZ"
      },
      "source": [
        "## Nested Loops\n",
        "คือมี loop ซ้อน loop\n",
        "\n",
        "loop ที่อยู่ด้านในจะทำงานซ้ำจนครบก่อน จึงจะออกมาทำ loop ด้านนอกต่อ"
      ]
    },
    {
      "cell_type": "markdown",
      "metadata": {
        "id": "l1E39D8j3h9F"
      },
      "source": [
        "### ตัวอย่าง\n",
        "ปริ้น adj ของ fruits ทุกชนิด\n",
        "\n"
      ]
    },
    {
      "cell_type": "code",
      "metadata": {
        "colab": {
          "base_uri": "https://localhost:8080/"
        },
        "id": "dsH4o-AT07aC",
        "outputId": "b45f60b4-184c-4c2e-c371-b91054caf336"
      },
      "source": [
        "adj = [\"red\", \"big\", \"tasty\"]\n",
        "fruits = [\"apple\", \"banana\", \"cherry\"]\n",
        "\n",
        "for x in adj:\n",
        "  for y in fruits:\n",
        "    print(x, y)"
      ],
      "execution_count": null,
      "outputs": [
        {
          "output_type": "stream",
          "name": "stdout",
          "text": [
            "red apple\n",
            "red banana\n",
            "red cherry\n",
            "big apple\n",
            "big banana\n",
            "big cherry\n",
            "tasty apple\n",
            "tasty banana\n",
            "tasty cherry\n"
          ]
        }
      ]
    },
    {
      "cell_type": "markdown",
      "metadata": {
        "id": "0uwzW3sO3pHJ"
      },
      "source": [
        "## การใช้คำสั่ง pass\n",
        "ปกติแล้ว **for** loops ไม่สามารถเป็นค่าว่างได้ เพราะจะทำให้โค้ด error\n",
        "\n",
        "หากไม่ต้องการให้โค้ด error สามารถใช้คำสั่ง **pass** มาช่วยแก้ปัญหานี้ได้\n",
        "\n"
      ]
    },
    {
      "cell_type": "markdown",
      "metadata": {
        "id": "6Px2UFNv3rEU"
      },
      "source": [
        "### ตัวอย่าง\n"
      ]
    },
    {
      "cell_type": "code",
      "metadata": {
        "id": "t74GeVwi32-Q"
      },
      "source": [
        "for x in [0, 1, 2]:\n",
        "  pass"
      ],
      "execution_count": null,
      "outputs": []
    }
  ]
}