{
  "nbformat": 4,
  "nbformat_minor": 2,
  "metadata": {
    "colab": {
      "name": "7.1Python Strings.ipynb",
      "provenance": []
    },
    "kernelspec": {
      "name": "python3",
      "display_name": "Python 3.8.2 32-bit"
    },
    "language_info": {
      "name": "python",
      "version": "3.8.2",
      "mimetype": "text/x-python",
      "codemirror_mode": {
        "name": "ipython",
        "version": 3
      },
      "pygments_lexer": "ipython3",
      "nbconvert_exporter": "python",
      "file_extension": ".py"
    },
    "interpreter": {
      "hash": "8a42e8581704d812f174276cadf47b91a8b3cbce976324507688b69a62b18c0b"
    }
  },
  "cells": [
    {
      "cell_type": "markdown",
      "source": [
        "# Python Strings"
      ],
      "metadata": {
        "id": "_k3mjhPdUatC"
      }
    },
    {
      "cell_type": "markdown",
      "source": [
        "## Strings\r\n",
        "\r\n",
        "Strings ในภาษา python จะถูกคลุมด้วย single quotation marks หรือ double quotation marks ก็ได้\r\n",
        "\r\n",
        "จะใช้ 'สวัสดี' หรือ \"สวัสดี\" ก็ได้ผลแบบเดียวกัน\r\n",
        "\r\n",
        "สามารถใช้ฟังก์ชั่น print เพื่อแสดงค่าของ string literal (string literal เป็นการใช้ความสามารถของ array เข้ามาช่วยเพื่อเก็บ\r\n",
        "ตัวแปรได้มากกว่า 1 ตัวอักษร) "
      ],
      "metadata": {
        "id": "gGhfY4ntUcOp"
      }
    },
    {
      "cell_type": "markdown",
      "source": [
        "## ตัวอย่าง"
      ],
      "metadata": {
        "id": "N4o0bexrUgBN"
      }
    },
    {
      "cell_type": "code",
      "execution_count": 1,
      "source": [
        "print(\"สวัสดี\")\r\n",
        "print('สวัสดี')"
      ],
      "outputs": [
        {
          "output_type": "stream",
          "name": "stdout",
          "text": [
            "สวัสดี\n",
            "สวัสดี\n"
          ]
        }
      ],
      "metadata": {
        "id": "QnSnmVaFUiUR",
        "colab": {
          "base_uri": "https://localhost:8080/"
        },
        "outputId": "ecf1476c-5b53-4126-c584-c15e2275d4d2"
      }
    },
    {
      "cell_type": "markdown",
      "source": [
        "## Strings ที่ยาวหลายบรรทัด\r\n",
        "สามารถใช้ three quotes เพื่อกำหนดค่าให้ตัวแปร String ที่ยาวหลายบรรทัด"
      ],
      "metadata": {
        "id": "twcXCVHNUnS6"
      }
    },
    {
      "cell_type": "markdown",
      "source": [
        "## ตัวอย่าง\r\n",
        "สามารถใช้ three double quotes:"
      ],
      "metadata": {
        "id": "r74SjwzeWEfA"
      }
    },
    {
      "cell_type": "code",
      "execution_count": 2,
      "source": [
        "a = \"\"\"แก้มน้องนางนั้นแดงกว่าใคร\r\n",
        "ใจพี่จมแทบพสุธา\r\n",
        "ดวงฤทัยหรือดวงแก้วตา\r\n",
        "ดุจดวงดาราดวงดาวดวงไหน\"\"\"\r\n",
        "print(a)"
      ],
      "outputs": [
        {
          "output_type": "stream",
          "name": "stdout",
          "text": [
            "แก้มน้องนางนั้นแดงกว่าใคร\n",
            "ใจพี่จมแทบพสุธา\n",
            "ดวงฤทัยหรือดวงแก้วตา\n",
            "ดุจดวงดาราดวงดาวดวงไหน\n"
          ]
        }
      ],
      "metadata": {
        "id": "TYBRpDnZWHMq",
        "colab": {
          "base_uri": "https://localhost:8080/"
        },
        "outputId": "ecf0dab0-19cf-4ee4-b7e5-f146fe2efd9a"
      }
    },
    {
      "cell_type": "markdown",
      "source": [
        "หรือใช้ three single quotes:"
      ],
      "metadata": {
        "id": "2KQ0A3p7WNQe"
      }
    },
    {
      "cell_type": "code",
      "execution_count": 3,
      "source": [
        "a = '''แก้มน้องนางนั้นแดงกว่าใคร\r\n",
        "ใจพี่จมแทบพสุธา\r\n",
        "ดวงฤทัยหรือดวงแก้วตา\r\n",
        "ดุจดวงดาราดวงดาวดวงไหน'''\r\n",
        "print(a)\r\n"
      ],
      "outputs": [
        {
          "output_type": "stream",
          "name": "stdout",
          "text": [
            "แก้มน้องนางนั้นแดงกว่าใคร\n",
            "ใจพี่จมแทบพสุธา\n",
            "ดวงฤทัยหรือดวงแก้วตา\n",
            "ดุจดวงดาราดวงดาวดวงไหน\n"
          ]
        }
      ],
      "metadata": {
        "id": "BnSB14EJWP-h",
        "colab": {
          "base_uri": "https://localhost:8080/"
        },
        "outputId": "f74a642f-ea13-4a53-9f94-c4f273c57b56"
      }
    },
    {
      "cell_type": "markdown",
      "source": [
        "## Strings ก็คือ Arrays\r\n",
        "\r\n",
        "Strings ก็คือ arrays ของ bytes ที่ใช้แทนตัวอักษร unicode \r\n",
        "\r\n",
        "โดย Python ไม่มี data type แบบ character ดังนั้น character หนึ่งตัวก็คือ string ที่มีความยาวเท่ากับ 1 นั่นเอง\r\n",
        "\r\n",
        "สามารถใช้ Square brackets [] เพื่อเข้าถึงข้อมูลในแต่ละ element ของ string"
      ],
      "metadata": {
        "id": "jKNP72C9XDH1"
      }
    },
    {
      "cell_type": "markdown",
      "source": [
        "## ตัวอย่าง\r\n",
        "เข้าถึงตัวอักษรที่ตำแหน่งที่ 1 (ตัวอักษรตัวแรก คือตัวอักษรตำแหน่งที่ 0)"
      ],
      "metadata": {
        "id": "J6pMqR6SXHpc"
      }
    },
    {
      "cell_type": "code",
      "execution_count": 3,
      "source": [
        "a = \"เริ่มต้นใหม่กับคนเดิม\"\r\n",
        "print(a[1])\r\n"
      ],
      "outputs": [
        {
          "output_type": "stream",
          "name": "stdout",
          "text": [
            "ร\n"
          ]
        }
      ],
      "metadata": {
        "id": "KLGOJrwLXJDT",
        "colab": {
          "base_uri": "https://localhost:8080/"
        },
        "outputId": "bbc81d58-8eea-4fc8-8d4d-31bf04f11715"
      }
    },
    {
      "cell_type": "markdown",
      "source": [
        "## การ Loop ค่าของ String\r\n",
        "\r\n",
        "เนื่องจาก string ก็เป็น arrays เราจึงสามารถ loop ผ่านตัวอักษรแต่ละตัวใน string ได้ โดยใช้ for loop"
      ],
      "metadata": {
        "id": "Q9Ak_dlyXLr0"
      }
    },
    {
      "cell_type": "markdown",
      "source": [
        "## ตัวอย่าง\r\n",
        "Loop ผ่านตัวอักษรในคำว่า \"ฝนตกไหม\":"
      ],
      "metadata": {
        "id": "_USiY4vhXNWw"
      }
    },
    {
      "cell_type": "code",
      "execution_count": 4,
      "source": [
        "for x in \"ฝนตกไหม\":\r\n",
        "  print(x)"
      ],
      "outputs": [
        {
          "output_type": "stream",
          "name": "stdout",
          "text": [
            "ฝ\n",
            "น\n",
            "ต\n",
            "ก\n",
            "ไ\n",
            "ห\n",
            "ม\n"
          ]
        }
      ],
      "metadata": {
        "id": "3y7pTQ1gXQB5",
        "colab": {
          "base_uri": "https://localhost:8080/"
        },
        "outputId": "5399de06-d2bc-44b7-b9e1-bbdf07cd7fdb"
      }
    },
    {
      "cell_type": "markdown",
      "source": [
        "## ความยาวของ String\r\n",
        "\r\n",
        "สามารถใช้ฟังก์ชั่น len() เพื่อหาความยาวของ string"
      ],
      "metadata": {
        "id": "jsDDmK36XTi9"
      }
    },
    {
      "cell_type": "markdown",
      "source": [
        "## ตัวอย่าง"
      ],
      "metadata": {
        "id": "IKTi4uKCXVg3"
      }
    },
    {
      "cell_type": "code",
      "execution_count": 5,
      "source": [
        "a = \"ไม่อยากรู้ว่าตัวเองเป็นใคร\"\r\n",
        "print(len(a))\r\n"
      ],
      "outputs": [
        {
          "output_type": "stream",
          "name": "stdout",
          "text": [
            "26\n"
          ]
        }
      ],
      "metadata": {
        "id": "WdXuUbbgXWnG",
        "colab": {
          "base_uri": "https://localhost:8080/"
        },
        "outputId": "2bd9caa8-e2a7-410a-86f0-06d0555e2e36"
      }
    },
    {
      "cell_type": "markdown",
      "source": [
        "## การตรวจหาค่า String\r\n",
        "\r\n",
        "สามารถใช้ keyword in ในการตรวจดูว่ามีคำที่ต้องการค้นหาอยู่ใน String นั้นหรือไม่"
      ],
      "metadata": {
        "id": "Lo74MsvkXYhG"
      }
    },
    {
      "cell_type": "markdown",
      "source": [
        "## ตัวอย่าง\r\n",
        "\r\n",
        "ตรวจดูว่ามีคำว่า \"เรา\" อยู่ใน String ที่ชื่อ song หรือไม่"
      ],
      "metadata": {
        "id": "_YeFwWWiXbtK"
      }
    },
    {
      "cell_type": "code",
      "execution_count": 6,
      "source": [
        "song = \"มันไม่มีคำว่าเราอยู่ในนั้น\"\r\n",
        "print(\"เรา\" in song)"
      ],
      "outputs": [
        {
          "output_type": "stream",
          "name": "stdout",
          "text": [
            "True\n"
          ]
        }
      ],
      "metadata": {
        "id": "VZ8JqZDkXda9",
        "colab": {
          "base_uri": "https://localhost:8080/"
        },
        "outputId": "ddaaf0cf-2443-47c8-c364-4ba1733c69e4"
      }
    },
    {
      "cell_type": "markdown",
      "source": [
        "อาจใช้ keyword in ควบคู่กับ if ก็ได้"
      ],
      "metadata": {
        "id": "QrZWXkP9XfG2"
      }
    },
    {
      "cell_type": "markdown",
      "source": [
        "## ตัวอย่าง\r\n",
        "\r\n",
        "ให้ Print ก็ต่อเมื่อมีคำว่า \"เรา\" อยู่ใน song"
      ],
      "metadata": {
        "id": "Obp--HFvXhP-"
      }
    },
    {
      "cell_type": "code",
      "execution_count": 7,
      "source": [
        "song = \"มันไม่มีคำว่าเราอยู่ในนั้น\"\r\n",
        "if \"เรา\" in song:\r\n",
        "  print(\"ใช่ มันมีคำว่า \\\"เรา\\\" อยู่ใน song นะ\")"
      ],
      "outputs": [
        {
          "output_type": "stream",
          "name": "stdout",
          "text": [
            "ใช่ มันมีคำว่า \"เรา\" อยู่ใน song นะ\n"
          ]
        }
      ],
      "metadata": {
        "id": "7Q6iAPdpXjj-",
        "colab": {
          "base_uri": "https://localhost:8080/"
        },
        "outputId": "3e52beed-ba90-4c2b-975e-fb2da274fa9a"
      }
    }
  ]
}